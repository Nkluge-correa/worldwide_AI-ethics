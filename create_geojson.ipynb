{
 "cells": [
  {
   "attachments": {},
   "cell_type": "markdown",
   "metadata": {},
   "source": [
    "# Geojson 🌎🌍🌏\n",
    "\n",
    "Return to the [index](https://github.com/Nkluge-correa/worldwide_AI-ethics).\n",
    "\n",
    "**Use this notebook for the `geojson` file that feeds the `Choroplethmapbox` in the `dash.app`. The original `geojson` has information on 255 countries, but our sample/dataset does not need all of this. The original `geojson` is compressed inside the `data_en.rar`.**"
   ]
  },
  {
   "cell_type": "code",
   "execution_count": null,
   "metadata": {},
   "outputs": [],
   "source": [
    "import json\n",
    "import pickle\n",
    "import pandas as pd\n",
    "\n",
    "with open('data/countries.geojson') as fp:\n",
    "    countries = json.load(fp)\n",
    "    fp.close()\n",
    "\n",
    "df = pd.read_parquet('data/countries.parquet')\n",
    "\n",
    "print(len(df.code))\n",
    "\n",
    "l = []\n",
    "\n",
    "for i in range(len(countries['features'])):\n",
    "    if countries['features'][i]['id'] in list(df.code):\n",
    "        l.append(countries['features'][i])\n",
    "    else:\n",
    "        print(df.code[i])\n",
    "\n",
    "print(len(l))\n",
    "\n",
    "new_geojson = {'type': 'FeatureCollection',\n",
    "           'features': l}\n",
    "\n",
    "with open(\"data/countries_in_dataset.pickle\", \"wb\") as fp:\n",
    "    pickle.dump(new_geojson, fp, protocol=pickle.HIGHEST_PROTOCOL)\n",
    "    fp.close()"
   ]
  },
  {
   "attachments": {},
   "cell_type": "markdown",
   "metadata": {},
   "source": [
    "---\n",
    "\n",
    "Return to the [index](https://github.com/Nkluge-correa/worldwide_AI-ethics)."
   ]
  }
 ],
 "metadata": {
  "language_info": {
   "name": "python"
  },
  "orig_nbformat": 4
 },
 "nbformat": 4,
 "nbformat_minor": 2
}
